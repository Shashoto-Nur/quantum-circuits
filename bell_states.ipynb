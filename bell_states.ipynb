{
 "cells": [
  {
   "cell_type": "code",
   "execution_count": 1,
   "id": "strong-funds",
   "metadata": {},
   "outputs": [],
   "source": [
    "\n",
    "# Importing standard Qiskit libraries\n",
    "from qiskit import QuantumCircuit, execute, Aer, IBMQ\n",
    "from qiskit.visualization import plot_histogram\n"
   ]
  },
  {
   "cell_type": "code",
   "execution_count": 2,
   "id": "6717d897",
   "metadata": {},
   "outputs": [],
   "source": [
    "\n",
    "# Loading your IBM Q account(s)\n",
    "provider = IBMQ.load_account()\n",
    "\n",
    "# Initializing a backend\n",
    "backend = Aer.get_backend('statevector_simulator')\n"
   ]
  },
  {
   "cell_type": "code",
   "execution_count": 3,
   "id": "premier-friendship",
   "metadata": {},
   "outputs": [],
   "source": [
    "\n",
    "# To run the circuit\n",
    "def run_circ(circ_bell, backend):\n",
    "\n",
    "    circ_bell.draw('mpl')\n",
    "\n",
    "    job = execute(circ_bell, backend)\n",
    "    result = job.result()\n",
    "\n",
    "    state_bell = result.get_statevector(circ_bell)\n",
    "    print(\"Statevector: \", state_bell)\n",
    "\n",
    "    counts = result.get_counts(circ_bell)\n",
    "    print(\"\\nMeasurements: \", counts)\n"
   ]
  },
  {
   "cell_type": "code",
   "execution_count": 4,
   "id": "median-photography",
   "metadata": {},
   "outputs": [
    {
     "name": "stdout",
     "output_type": "stream",
     "text": [
      "Statevector:  [0.70710678+0.j 0.        +0.j 0.        +0.j 0.70710678+0.j]\n",
      "\n",
      "Measurements:  {'00': 0.5, '11': 0.5}\n"
     ]
    }
   ],
   "source": [
    "\n",
    "# |Φ+⟩ = 1/√2(|00⟩+|11⟩\n",
    "phi_plus = QuantumCircuit(2)\n",
    "\n",
    "# Apply the gates to create bell state\n",
    "phi_plus.h(0)\n",
    "phi_plus.cx(0, 1)\n",
    "\n",
    "# Run the circuit, print the state and the probability graph\n",
    "run_circ(phi_plus, backend)\n"
   ]
  },
  {
   "cell_type": "code",
   "execution_count": 5,
   "id": "matched-resistance",
   "metadata": {},
   "outputs": [
    {
     "name": "stdout",
     "output_type": "stream",
     "text": [
      "Statevector:  [ 0.70710678+0.00000000e+00j  0.        +0.00000000e+00j\n",
      "  0.        +0.00000000e+00j -0.70710678+8.65956056e-17j]\n",
      "\n",
      "Measurements:  {'00': 0.5, '11': 0.5}\n"
     ]
    }
   ],
   "source": [
    "\n",
    "# |Φ−⟩ = 1/√2(|00⟩−|11⟩\n",
    "phi_minus = QuantumCircuit(2)\n",
    "\n",
    "# Apply the gates to create bell state\n",
    "phi_minus.x(0)\n",
    "phi_minus.h(0)\n",
    "phi_minus.cx(0, 1)\n",
    "\n",
    "# Run the circuit, print the state and the probability graph\n",
    "run_circ(phi_minus, backend)\n"
   ]
  },
  {
   "cell_type": "code",
   "execution_count": 6,
   "id": "ahead-section",
   "metadata": {},
   "outputs": [
    {
     "name": "stdout",
     "output_type": "stream",
     "text": [
      "Statevector:  [0.        +0.j 0.70710678+0.j 0.70710678+0.j 0.        +0.j]\n",
      "\n",
      "Measurements:  {'01': 0.5, '10': 0.5}\n"
     ]
    }
   ],
   "source": [
    "\n",
    "# |Ψ+⟩ = 1/√2(|01⟩+|10⟩\n",
    "psi_plus = QuantumCircuit(2)\n",
    "\n",
    "# Apply the gates to create bell state\n",
    "psi_plus.h(0)\n",
    "psi_plus.x(1)\n",
    "psi_plus.cx(0, 1)\n",
    "\n",
    "# Run the circuit, print the state and the probability graph\n",
    "run_circ(psi_plus, backend)\n"
   ]
  },
  {
   "cell_type": "code",
   "execution_count": 7,
   "id": "retained-winter",
   "metadata": {},
   "outputs": [
    {
     "name": "stdout",
     "output_type": "stream",
     "text": [
      "Statevector:  [ 0.        +0.00000000e+00j  0.70710678+0.00000000e+00j\n",
      " -0.70710678+8.65956056e-17j  0.        +0.00000000e+00j]\n",
      "\n",
      "Measurements:  {'01': 0.5, '10': 0.5}\n"
     ]
    }
   ],
   "source": [
    "\n",
    "# |Ψ−⟩ = 1/√2(|01⟩−|10⟩\n",
    "psi_minus = QuantumCircuit(2)\n",
    "\n",
    "# Apply the gates to create bell state\n",
    "psi_minus.x(0)\n",
    "psi_minus.h(0)\n",
    "psi_minus.cx(0, 1)\n",
    "psi_minus.x(0)\n",
    "\n",
    "# Run the circuit, print the state and the probability graph\n",
    "run_circ(psi_minus, backend)\n"
   ]
  }
 ],
 "metadata": {
  "kernelspec": {
   "display_name": "Python 3",
   "language": "python",
   "name": "python3"
  },
  "language_info": {
   "codemirror_mode": {
    "name": "ipython",
    "version": 3
   },
   "file_extension": ".py",
   "mimetype": "text/x-python",
   "name": "python",
   "nbconvert_exporter": "python",
   "pygments_lexer": "ipython3",
   "version": "3.8.8"
  }
 },
 "nbformat": 4,
 "nbformat_minor": 5
}
