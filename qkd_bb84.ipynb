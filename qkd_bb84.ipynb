{
 "cells": [
  {
   "cell_type": "code",
   "execution_count": 1,
   "metadata": {},
   "outputs": [
    {
     "data": {
      "text/plain": [
       "'\\nQKD - BB84\\n    1. select encoding: Alice randomly selects a basis ( × or + ) to encode each bit.\\n    2. select measurement: Bob randomly selects a basis ( × or + ) to measure each bit.\\n    3. encode: Alice creates the quantum states, encoded in the selected bases.\\n    4. send: Alice sends Bob the encoded states, via the quantum channel.\\n    5. measure: Bob measures all the quantum states in his pre-selected measurement bases.\\n    6. announce: Alice announces which basis she used to encode each bit, via the classical channel.\\n    7. create key: Alice and Bob discard bits in their key that used a different encoding and decoding basis.\\n'"
      ]
     },
     "execution_count": 1,
     "metadata": {},
     "output_type": "execute_result"
    }
   ],
   "source": [
    "'''\n",
    "QKD - BB84\n",
    "    1. select encoding: Alice randomly selects a basis ( × or + ) to encode each bit.\n",
    "    2. select measurement: Bob randomly selects a basis ( × or + ) to measure each bit.\n",
    "    3. encode: Alice creates the quantum states, encoded in the selected bases.\n",
    "    4. send: Alice sends Bob the encoded states, via the quantum channel.\n",
    "    5. measure: Bob measures all the quantum states in his pre-selected measurement bases.\n",
    "    6. announce: Alice announces which basis she used to encode each bit, via the classical channel.\n",
    "    7. create key: Alice and Bob discard bits in their key that used a different encoding and decoding basis.\n",
    "'''"
   ]
  },
  {
   "cell_type": "code",
   "execution_count": 2,
   "metadata": {},
   "outputs": [],
   "source": [
    "from random import getrandbits\n",
    "import binascii\n",
    "from qiskit import QuantumCircuit, Aer, execute"
   ]
  },
  {
   "cell_type": "code",
   "execution_count": 3,
   "metadata": {},
   "outputs": [],
   "source": [
    "def construct_key_from_indices(bitstring, indices):\n",
    "    key = ''\n",
    "    for idx in indices:\n",
    "        # if bases match, the bitstring bit is added to the key\n",
    "        key = key + bitstring[idx] \n",
    "    return key"
   ]
  },
  {
   "cell_type": "code",
   "execution_count": 4,
   "metadata": {},
   "outputs": [],
   "source": [
    "def bob_compare_bases(alices_bases, bobs_bases):\n",
    "    indices = []\n",
    "    \n",
    "    for i in range(len(alices_bases)):\n",
    "        if alices_bases[i] == bobs_bases[i]:\n",
    "            indices.append(i)\n",
    "    return indices"
   ]
  },
  {
   "cell_type": "code",
   "execution_count": 5,
   "metadata": {},
   "outputs": [],
   "source": [
    "def measure(bob_bases, encoded_qubits, backend):\n",
    "    bob_bitstring = ''\n",
    "    \n",
    "    for i in range(len(encoded_qubits)):\n",
    "        qc = encoded_qubits[i]\n",
    "        \n",
    "        if bob_bases[i] == \"0\":\n",
    "            # 0 = Z basis\n",
    "            qc.measure(0, 0)\n",
    "\n",
    "        elif bob_bases[i] == \"1\":\n",
    "            # 1 = X basis\n",
    "            qc.h(0)\n",
    "            qc.measure(0, 0)\n",
    "        \n",
    "        # Run the circuit\n",
    "        job = execute(qc, backend=backend, shots = 1)\n",
    "        results = job.result()\n",
    "        counts = results.get_counts()\n",
    "        measured_bit = max(counts, key=counts.get)\n",
    "\n",
    "        # Append measured bit to Bob's measured bitstring\n",
    "        bob_bitstring += measured_bit \n",
    "        \n",
    "    return bob_bitstring"
   ]
  },
  {
   "cell_type": "code",
   "execution_count": 6,
   "metadata": {},
   "outputs": [],
   "source": [
    "def encode(alice_bitstring, alice_bases):\n",
    "    encoded_qubits = []\n",
    "    for i in range(len(alice_bitstring)):\n",
    "        qc = QuantumCircuit(1, 1)\n",
    "\n",
    "        if alice_bases[i] == \"0\":\n",
    "            # 0 Means we are encoding in the z basis\n",
    "            if alice_bitstring[i] == \"0\":\n",
    "                pass # |0>\n",
    "            \n",
    "            elif alice_bitstring[i] == \"1\":\n",
    "                qc.x(0) # |1>\n",
    "                \n",
    "        elif alice_bases[i] == \"1\":\n",
    "            # 1 Means we are encoding in the x basis\n",
    "            if alice_bitstring[i] == \"0\":\n",
    "                qc.h(0) # |+>\n",
    "            elif alice_bitstring[i] == \"1\":\n",
    "                qc.x(0)\n",
    "                qc.h(0) # |->\n",
    "            \n",
    "        # add this quantum circuit to the list of encoded_qubits\n",
    "        encoded_qubits.append(qc)\n",
    "        \n",
    "    return encoded_qubits"
   ]
  },
  {
   "cell_type": "code",
   "execution_count": 7,
   "metadata": {},
   "outputs": [],
   "source": [
    "def select_measurement(length):\n",
    "    bob_bases = \"\"\n",
    "    \n",
    "    for i in range(length):\n",
    "        bob_bases += (str(getrandbits(1)))\n",
    "\n",
    "    return bob_bases"
   ]
  },
  {
   "cell_type": "code",
   "execution_count": 8,
   "metadata": {},
   "outputs": [],
   "source": [
    "# 0 = (0, 1), 1 = (+, -) basis\n",
    "def select_encoding(length):\n",
    "\n",
    "    alice_bitstring = \"\"\n",
    "    alice_bases = \"\"\n",
    "\n",
    "    for i in range(length):\n",
    "        alice_bitstring += (str(getrandbits(1)))\n",
    "        alice_bases += (str(getrandbits(1)))\n",
    "\n",
    "    return alice_bitstring, alice_bases"
   ]
  },
  {
   "cell_type": "code",
   "execution_count": 9,
   "metadata": {},
   "outputs": [
    {
     "name": "stdout",
     "output_type": "stream",
     "text": [
      "alice_key:  0010100000\n",
      "bob_key:  0010100000\n",
      "Alice's key is equal to Bob's key:  True\n"
     ]
    }
   ],
   "source": [
    "KEY_LENGTH = 500\n",
    "\n",
    "alice_bitstring, alice_bases = select_encoding(KEY_LENGTH)\n",
    "\n",
    "bob_bases = select_measurement(KEY_LENGTH)\n",
    "\n",
    "encoded_qubits = encode(alice_bitstring, alice_bases)\n",
    "\n",
    "QUANTUM_CHANNEL = encoded_qubits\n",
    "\n",
    "bob_bitstring = measure(bob_bases, QUANTUM_CHANNEL, Aer.get_backend('qasm_simulator'))\n",
    "\n",
    "CLASSICAL_CHANNEL = alice_bases\n",
    "agreeing_bases = bob_compare_bases(CLASSICAL_CHANNEL, bob_bases)\n",
    "\n",
    "\n",
    "CLASSICAL_CHANNEL = agreeing_bases\n",
    "\n",
    "alice_key = construct_key_from_indices(alice_bitstring, CLASSICAL_CHANNEL)\n",
    "bob_key = construct_key_from_indices(bob_bitstring, agreeing_bases)\n",
    "\n",
    "# Preview the first 10 elements of each Key:\n",
    "print(\"alice_key: \", alice_key[:10])\n",
    "print(\"bob_key: \", bob_key[:10])\n",
    "print(\"Alice's key is equal to Bob's key: \", alice_key == bob_key)"
   ]
  },
  {
   "cell_type": "code",
   "execution_count": 10,
   "metadata": {},
   "outputs": [],
   "source": [
    "import binascii\n",
    "\n",
    "def encrypt_message(unencrypted_string, key):\n",
    "    # ASCII to Binary\n",
    "    bits = bin(int(binascii.hexlify(unencrypted_string.encode('utf-8', 'surrogatepass')), 16))[2:]\n",
    "    bitstring = bits.zfill(8 * ((len(bits) + 7) // 8))\n",
    "\n",
    "    # Encrypt binary\n",
    "    encrypted_string = \"\"\n",
    "    for i in range(len(bitstring)):\n",
    "        encrypted_string += str( (int(bitstring[i])^ int(key[i])) )\n",
    "\n",
    "    return encrypted_string\n",
    "    \n",
    "def decrypt_message(encrypted_bits, key):\n",
    "    # Unencrypt binary\n",
    "    unencrypted_bits = \"\"\n",
    "    for i in range(len(encrypted_bits)):\n",
    "        unencrypted_bits += str( (int(encrypted_bits[i])^ int(key[i])) )\n",
    "    # Binary to ASCII\n",
    "    i = int(unencrypted_bits, 2)\n",
    "    hex_string = '%x' % i\n",
    "    n = len(hex_string)\n",
    "    bits = binascii.unhexlify(hex_string.zfill(n + (n & 1)))\n",
    "    unencrypted_string = bits.decode('utf-8', 'surrogatepass')\n",
    "    return unencrypted_string"
   ]
  },
  {
   "cell_type": "code",
   "execution_count": 11,
   "metadata": {},
   "outputs": [
    {
     "name": "stdout",
     "output_type": "stream",
     "text": [
      "Encrypted message: 01111111010010110001110100010010010011010010001010001000100010110010010001001100011101011100111010111011010111000110001000010010\n",
      "\n",
      "Decrypted message: Welcome To Hell!\n",
      "\n",
      "Message Transfer Successful!\n"
     ]
    }
   ],
   "source": [
    "message = \"Welcome To Hell!\"\n",
    "\n",
    "encrypted_message = encrypt_message(message, alice_key)\n",
    "print(\"Encrypted message:\", encrypted_message)\n",
    "\n",
    "decrypted_message = decrypt_message(encrypted_message, bob_key)\n",
    "print(\"\\nDecrypted message:\", decrypted_message)\n",
    "\n",
    "if message == decrypted_message:\n",
    "    print(\"\\nMessage Transfer Successful!\")"
   ]
  }
 ],
 "metadata": {
  "kernelspec": {
   "display_name": "Python 3",
   "language": "python",
   "name": "python3"
  },
  "language_info": {
   "codemirror_mode": {
    "name": "ipython",
    "version": 3
   },
   "file_extension": ".py",
   "mimetype": "text/x-python",
   "name": "python",
   "nbconvert_exporter": "python",
   "pygments_lexer": "ipython3",
   "version": "3.8.8"
  }
 },
 "nbformat": 4,
 "nbformat_minor": 4
}
