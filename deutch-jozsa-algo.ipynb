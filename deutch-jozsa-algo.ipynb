{
 "cells": [
  {
   "cell_type": "code",
   "execution_count": 1,
   "id": "accompanied-waste",
   "metadata": {},
   "outputs": [],
   "source": [
    "''''\n",
    " DJ algorithm allows us to determine if the function is constant or balanced with just one check,\n",
    " provided we express the function as an oracle\n",
    " Four operations:\n",
    "    1. XOR operation on 𝑦 = 𝑦⊕𝑓(𝑥)\n",
    "    2. 𝑦⊕𝑓(𝑥)=𝑦¯\n",
    "    3. 𝑦⊕𝑓(𝑥)=𝑦⊕𝑥; CNOT between x and y\n",
    "    4. 𝑦⊕𝑓(𝑥)=𝑦⊕𝑥; CNOT between 𝑥¯ and y\n",
    "''''\n",
    "\n",
    "from qiskit import QuantumCircuit, Aer, execute\n",
    "from random import getrandbits"
   ]
  },
  {
   "cell_type": "code",
   "execution_count": 2,
   "id": "975ea067",
   "metadata": {},
   "outputs": [],
   "source": [
    "\n",
    "def constant_oracle(n, circ):\n",
    "    if (n == 0): # f(x) = 0\n",
    "        pass\n",
    "    else: # f(x) = 1\n",
    "        circ.x(1)\n",
    "\n",
    "def balanced_oracle(n, circ):\n",
    "    if (n == 0):  # f(x) = x; outputs correspond to a CNOT function\n",
    "        circ.cx(0, 1)\n",
    "    else: # f(x) = \\bar{x}\n",
    "        circ.x(0)\n",
    "        circ.cx(0, 1)\n",
    "\n",
    "def random_oracle(circ):\n",
    "    if(getrandbits(1) == 0):\n",
    "        constant_oracle(getrandbits(1), circ)\n",
    "    else:\n",
    "        balanced_oracle(getrandbits(1), circ)\n"
   ]
  },
  {
   "cell_type": "code",
   "execution_count": 3,
   "id": "tribal-wiring",
   "metadata": {},
   "outputs": [
    {
     "data": {
      "image/png": "[encoded data removed]",
      "text/plain": [
       "<Figure size 688.452x204.68 with 1 Axes>"
      ]
     },
     "execution_count": 3,
     "metadata": {},
     "output_type": "execute_result"
    }
   ],
   "source": [
    "\n",
    "# Initiate a quantum circuit of two qubits\n",
    "circuit = QuantumCircuit(2,2)\n",
    "\n",
    "# Apply an X gate to 𝑞1\n",
    "circuit.x(1)\n",
    "circuit.barrier()\n",
    "\n",
    "# Apply H gates to both 𝑞0 and 𝑞1\n",
    "circuit.h(0)\n",
    "circuit.h(1)\n",
    "circuit.barrier()\n",
    "\n",
    "# Apply the oracle to 𝑞0 and 𝑞1\n",
    "random_oracle(circuit)\n",
    "circuit.barrier()\n",
    "\n",
    "# Apply H gates to both 𝑞0 and 𝑞1\n",
    "circuit.h(0)\n",
    "circuit.h(1)\n",
    "circuit.barrier()\n",
    "\n",
    "# Measure 𝑞0 (0 = constant; 1 = balanced)\n",
    "circuit.measure([0, 1], [0, 1])\n",
    "\n",
    "circuit.draw('mpl')\n"
   ]
  },
  {
   "cell_type": "code",
   "execution_count": 4,
   "id": "expected-tunnel",
   "metadata": {},
   "outputs": [
    {
     "name": "stdout",
     "output_type": "stream",
     "text": [
      "{'10': 1024}\n"
     ]
    }
   ],
   "source": [
    "\n",
    "# Get backend\n",
    "backend = Aer.get_backend('qasm_simulator')\n",
    "\n",
    "# Run the algorithm\n",
    "job = execute (circuit, backend, shots=1024)\n",
    "results = job.result()\n",
    "counts = results.get_counts(circuit)\n",
    "print(counts)\n"
   ]
  }
 ],
 "metadata": {
  "colab": {
   "collapsed_sections": [],
   "name": "QxQ Search Algorithms.ipynb",
   "provenance": []
  },
  "kernelspec": {
   "display_name": "Python 3",
   "language": "python",
   "name": "python3"
  },
  "language_info": {
   "codemirror_mode": {
    "name": "ipython",
    "version": 3
   },
   "file_extension": ".py",
   "mimetype": "text/x-python",
   "name": "python",
   "nbconvert_exporter": "python",
   "pygments_lexer": "ipython3",
   "version": "3.8.8"
  }
 },
 "nbformat": 4,
 "nbformat_minor": 5
}
