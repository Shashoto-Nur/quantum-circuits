{
 "cells": [
  {
   "cell_type": "code",
   "execution_count": 1,
   "id": "genetic-convergence",
   "metadata": {},
   "outputs": [],
   "source": [
    "\n",
    "# Description -----------------------------------------------------------\n",
    "# -----------------------------------------------------------------------\n",
    "\n",
    "# Create a bell state\n",
    "# Take any psi state and entangle it with one qubit of the bell pair\n",
    "# Apply hadamard to the psi state\n",
    "# Measure psi and its entangled partner\n",
    "# As per the measurement, apply an unitary operation\n",
    "#                         to the other qubit of the bell pair\n",
    "# The other qubit of the bell pair is now the teleported psi state\n",
    "\n",
    "# -----------------------------------------------------------------------\n",
    "\n"
   ]
  },
  {
   "cell_type": "code",
   "execution_count": 2,
   "id": "configured-alignment",
   "metadata": {},
   "outputs": [],
   "source": [
    "\n",
    "# Import matplot library\n",
    "%matplotlib inline\n",
    "\n",
    "# Importing standard Qiskit libraries\n",
    "from qiskit import QuantumCircuit, execute, Aer, IBMQ\n",
    "from qiskit import QuantumRegister, ClassicalRegister, extensions\n",
    "from qiskit.compiler import transpile\n",
    "from qiskit.tools.jupyter import *\n",
    "from qiskit.visualization import *\n",
    "\n",
    "# Import numpy for psi\n",
    "import numpy as np\n",
    "\n",
    "# Loading your IBM Q account(s)\n",
    "provider = IBMQ.load_account()\n",
    "\n",
    "# Initializing a backend\n",
    "backend = Aer.get_backend('qasm_simulator')\n"
   ]
  },
  {
   "cell_type": "code",
   "execution_count": 3,
   "id": "alert-admission",
   "metadata": {},
   "outputs": [],
   "source": [
    "\n",
    "# To run the circuit\n",
    "def run_circ(circ, backend):\n",
    "\n",
    "    # Executing the previously constructed circuit on the backend\n",
    "    job = execute(circ, backend, shots=1024)\n",
    "\n",
    "    # Grabbing the results from the job.\n",
    "    result = job.result()\n",
    "\n",
    "    # Getting the output\n",
    "    counts = result.get_counts(circ)\n",
    "    print(counts)\n",
    "    \n",
    "    # Getting the snapshots\n",
    "    snapshots = result.data()['snapshots']['statevector']\n",
    "    \n",
    "    # Return the snapshots\n",
    "    return snapshots\n"
   ]
  },
  {
   "cell_type": "code",
   "execution_count": 4,
   "id": "protected-inquiry",
   "metadata": {},
   "outputs": [],
   "source": [
    "\n",
    "# Treat the teleported state\n",
    "def apply_unitary(circ, c0, c1):\n",
    "\n",
    "    # if bits [0, 1] or [1, 1]\n",
    "    circ.z(2).c_if(c0, 1)\n",
    "\n",
    "    # if bits [1, 0] or [1, 1]\n",
    "    circ.x(2).c_if(c1, 1)\n",
    "\n",
    "    # Return the updated circuit\n",
    "    return circ\n"
   ]
  },
  {
   "cell_type": "code",
   "execution_count": 5,
   "id": "outdoor-helping",
   "metadata": {},
   "outputs": [],
   "source": [
    "\n",
    "# Entangle the psi with a bell state\n",
    "def entangle_psi(circ, ctrl, trg):\n",
    "\n",
    "    # Apply control to entangle the qubits\n",
    "    circ.cx(ctrl, trg)\n",
    "    \n",
    "    # Apply Hadamard to Control qubit\n",
    "    circ.h(ctrl)\n",
    "\n",
    "    # Applying a barrier to isolate the bell state\n",
    "    circ.barrier()\n",
    "    \n",
    "    # Return the updated circuit\n",
    "    return circ\n",
    "    "
   ]
  },
  {
   "cell_type": "code",
   "execution_count": 6,
   "id": "original-wagner",
   "metadata": {},
   "outputs": [],
   "source": [
    "\n",
    "# Bell state: |Φ+⟩=1/√2(|00⟩+|11⟩\n",
    "def create_bell(circ, ctrl, trg):\n",
    "\n",
    "    # Apply the gates to create bell state\n",
    "    circ.h(ctrl)\n",
    "    circ.cx(ctrl, trg)\n",
    "\n",
    "    # Applying a barrier to isolate the bell state\n",
    "    circ.barrier()\n",
    "    \n",
    "    # Return the bell circuit\n",
    "    return circ\n"
   ]
  },
  {
   "cell_type": "code",
   "execution_count": 7,
   "id": "legitimate-response",
   "metadata": {},
   "outputs": [],
   "source": [
    "\n",
    "# Initialize quantum circuit with state psi\n",
    "def init_circ(init_gate):\n",
    "\n",
    "    qr = QuantumRegister(3, name=\"q\")\n",
    "    c0 = ClassicalRegister(1, name=\"c0\")\n",
    "    c1 = ClassicalRegister(1, name=\"c1\")\n",
    "    circ = QuantumCircuit(qr, c0, c1)\n",
    "\n",
    "    # Initialise first qubit to have state Psi\n",
    "    circ.append(init_gate, [0])\n",
    "    \n",
    "    # Return the updated circuit with the classical bits\n",
    "    return [circ, c0, c1]\n"
   ]
  },
  {
   "cell_type": "code",
   "execution_count": 8,
   "id": "mature-penetration",
   "metadata": {},
   "outputs": [],
   "source": [
    "\n",
    "# Create the psi state\n",
    "def create_psi():\n",
    "\n",
    "    # Psi as initialisation gate\n",
    "    init_gate = extensions.Initialize(psi)\n",
    "    init_gate.label = \"Custom Gate\"\n",
    "    \n",
    "    # Return the initialized gate\n",
    "    return init_gate\n"
   ]
  },
  {
   "cell_type": "code",
   "execution_count": 9,
   "id": "enhanced-veteran",
   "metadata": {},
   "outputs": [],
   "source": [
    "# Teleportation Protocol:\n",
    "\n",
    "def teleport_state(psi):\n",
    "\n",
    "    # Initialize psi as a Quantum Gate\n",
    "    init_gate = create_psi()\n",
    "    \n",
    "    # Initialize circuit with psi state\n",
    "    circuit_elements = init_circ(init_gate)\n",
    "    \n",
    "    # Extract the returned data\n",
    "    circ = circuit_elements[0]\n",
    "    c0 = circuit_elements[1]\n",
    "    c1 = circuit_elements[2]\n",
    "    \n",
    "    # Record the initial statevector\n",
    "    circ.snapshot('1')\n",
    "\n",
    "    # Create Bell pair\n",
    "    circ = create_bell(circ, 1, 2)\n",
    "    \n",
    "    # Entangle psi\n",
    "    circ = entangle_psi(circ, 0, 1)\n",
    "    \n",
    "    # Measure state and map to c_bits\n",
    "    circ.measure([0, 1], [0, 1])\n",
    "    circ.barrier()\n",
    "\n",
    "    # Apply Unitary operation(s) (to get the desired state)\n",
    "    circ = apply_unitary(circ, c0, c1)\n",
    "    \n",
    "    # Record the final statevector\n",
    "    circ.snapshot('2')\n",
    "    \n",
    "    # Run circuit\n",
    "    snapshots = run_circ(circ, backend)\n",
    "\n",
    "    # Return the complete circuit and its snapshots\n",
    "    return [circ, snapshots]\n"
   ]
  },
  {
   "cell_type": "code",
   "execution_count": 10,
   "id": "signed-enhancement",
   "metadata": {},
   "outputs": [],
   "source": [
    "\n",
    "# Check whether the state has been teleported\n",
    "def verify_state(snap1, snap2, psi):\n",
    "    a = [c for c in snap1[0] if c != 0]\n",
    "    b = [c for c in snap2[0] if c != 0]\n",
    "\n",
    "    # Compare the states\n",
    "    if np.round(a[0]+a[1], 5) == np.round(b[0]+ b[1], 5):\n",
    "        return \"State has been successfully teleported!\"\n",
    "    else:\n",
    "        return \"Error: Teleported state is corrupted!\"\n"
   ]
  },
  {
   "cell_type": "code",
   "execution_count": 11,
   "id": "ethical-brunei",
   "metadata": {},
   "outputs": [
    {
     "name": "stdout",
     "output_type": "stream",
     "text": [
      "Enter the state of the qubit being 0: 0.5533920757991503+0.3043529040180291j\n",
      "Enter the state of the qubit being 1: 0.6147796854942953+0.4724113234904887j\n",
      "{'0 1': 271, '1 0': 243, '0 0': 228, '1 1': 282}\n"
     ]
    },
    {
     "data": {
      "image/png": "[encoded data removed]",
      "text/plain": [
       "<Figure size 1049.8x325.08 with 1 Axes>"
      ]
     },
     "execution_count": 11,
     "metadata": {},
     "output_type": "execute_result"
    },
    {
     "data": {
      "image/png": "[encoded data removed]",
      "text/plain": [
       "<Figure size 1049.8x325.08 with 1 Axes>"
      ]
     },
     "metadata": {},
     "output_type": "display_data"
    }
   ],
   "source": [
    "\n",
    "# Initializing the state to be teleported\n",
    "state0 = complex(input(\"Enter the state of the qubit being 0: \"))\n",
    "state1 = complex(input(\"Enter the state of the qubit being 1: \"))\n",
    "# [0.5533920757991503+0.3043529040180291j,\n",
    "# 0.6147796854942953+0.4724113234904887j]\n",
    "\n",
    "psi = np.array(\n",
    "    [\n",
    "        state0,\n",
    "        state1\n",
    "    ]\n",
    ")\n",
    "\n",
    "# Teleportation\n",
    "circ_n_state = teleport_state(psi)\n",
    "circ = circ_n_state[0]\n",
    "circ.draw()\n"
   ]
  },
  {
   "cell_type": "code",
   "execution_count": 12,
   "id": "capable-tyler",
   "metadata": {},
   "outputs": [
    {
     "name": "stdout",
     "output_type": "stream",
     "text": [
      "State has been successfully teleported!\n"
     ]
    }
   ],
   "source": [
    "\n",
    "# Check if it's the same state\n",
    "snapshots = circ_n_state[1]\n",
    "status = verify_state(snapshots['1'], snapshots['2'], psi)\n",
    "print(status)\n"
   ]
  }
 ],
 "metadata": {
  "kernelspec": {
   "display_name": "Python 3",
   "language": "python",
   "name": "python3"
  },
  "language_info": {
   "codemirror_mode": {
    "name": "ipython",
    "version": 3
   },
   "file_extension": ".py",
   "mimetype": "text/x-python",
   "name": "python",
   "nbconvert_exporter": "python",
   "pygments_lexer": "ipython3",
   "version": "3.8.8"
  }
 },
 "nbformat": 4,
 "nbformat_minor": 5
}
