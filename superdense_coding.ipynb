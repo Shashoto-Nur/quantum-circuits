{
 "cells": [
  {
   "cell_type": "code",
   "execution_count": 1,
   "id": "fundamental-vehicle",
   "metadata": {},
   "outputs": [],
   "source": [
    "\n",
    "# getting matplot library\n",
    "%matplotlib inline\n",
    "\n",
    "# Importing standard Qiskit libraries\n",
    "from qiskit import QuantumCircuit, execute, Aer, IBMQ, visualization\n",
    "import math\n",
    "\n",
    "# Loading your IBM Q account(s)\n",
    "provider = IBMQ.load_account()\n",
    "\n",
    "# Initializing a backend\n",
    "backend = Aer.get_backend('statevector_simulator')\n"
   ]
  },
  {
   "cell_type": "code",
   "execution_count": 2,
   "id": "forced-tulsa",
   "metadata": {},
   "outputs": [],
   "source": [
    "\n",
    "#    superdense coding -> quantum communication protocol to transmit two classical bits\n",
    "#    encoding -> apply x and/or z gate to a bell state\n",
    "#    decoding -> apply the inverse circuit of creating a bell state\n"
   ]
  },
  {
   "cell_type": "code",
   "execution_count": 3,
   "id": "gross-jackson",
   "metadata": {},
   "outputs": [],
   "source": [
    "\n",
    "# A function to run the circuit\n",
    "def run_circ(circ, backend):\n",
    "\n",
    "    # Executing the previously constructed circuit on the backend\n",
    "    job = execute(circ, backend)\n",
    "\n",
    "    # Grabbing the results from the job.\n",
    "    result = job.result()\n",
    "\n",
    "    # Getting the statevector\n",
    "    statevector = result.get_statevector()\n",
    "\n",
    "    # Getting the output\n",
    "    counts = result.get_counts(circ)\n",
    "    print(\"{'bit_string': probability} = \" + str(counts))\n",
    "\n",
    "    # Plot a histogram of the output\n",
    "    histogram = visualization.plot_histogram(counts)\n",
    "\n",
    "    # Displaying the histogram\n",
    "    display(histogram)\n"
   ]
  },
  {
   "cell_type": "code",
   "execution_count": 4,
   "id": "parental-rugby",
   "metadata": {},
   "outputs": [],
   "source": [
    "\n",
    "# To decode the circuit\n",
    "def decode(circ, i):\n",
    "    circ.cx(i, (i+1))\n",
    "    circ.h(i)\n",
    "    \n",
    "    return circ\n"
   ]
  },
  {
   "cell_type": "code",
   "execution_count": 5,
   "id": "passive-wayne",
   "metadata": {},
   "outputs": [],
   "source": [
    "\n",
    "# To encode the circuit\n",
    "def encode(circ, b1, b2, i):\n",
    "    # if (b1 == 0 and b2 == 0): # for |Φ+⟩\n",
    "    # do nothing\n",
    "    if (b1 == 1 and b2 == 0): # for |Φ-⟩\n",
    "        circ.x(i)\n",
    "    elif (b1 == 0 and b2 == 1): # for |Ψ+⟩\n",
    "        circ.z(i)\n",
    "    elif (b1 == 1 and b2 == 1): # for |Ψ-⟩\n",
    "        circ.x(i)\n",
    "        circ.z(i)\n",
    "    else:\n",
    "        print('Invalid message')\n",
    "    \n",
    "    return circ\n"
   ]
  },
  {
   "cell_type": "code",
   "execution_count": 6,
   "id": "virgin-example",
   "metadata": {},
   "outputs": [
    {
     "data": {
      "text/plain": [
       "<qiskit.circuit.instructionset.InstructionSet at 0x7fa3446410a0>"
      ]
     },
     "execution_count": 6,
     "metadata": {},
     "output_type": "execute_result"
    }
   ],
   "source": [
    "\n",
    "# Bell state: |Φ+⟩=1/√2(|00⟩+|11⟩\n",
    "\n",
    "# Initialize quantum circuit with 8 qubits\n",
    "compound_circ = QuantumCircuit(8, 8)\n",
    "\n",
    "# Apply the gates to create bell state\n",
    "for i in range(0, 7, 2):\n",
    "    compound_circ.h(i)\n",
    "    compound_circ.cx(i, (i+1))\n",
    "\n",
    "# Applying a barrier to isolate the bell state\n",
    "compound_circ.barrier()\n"
   ]
  },
  {
   "cell_type": "code",
   "execution_count": 7,
   "id": "architectural-shock",
   "metadata": {},
   "outputs": [
    {
     "name": "stdout",
     "output_type": "stream",
     "text": [
      "Invalid message\n"
     ]
    },
    {
     "data": {
      "text/plain": [
       "<qiskit.circuit.instructionset.InstructionSet at 0x7fa344614e20>"
      ]
     },
     "execution_count": 7,
     "metadata": {},
     "output_type": "execute_result"
    }
   ],
   "source": [
    "\n",
    "# List \n",
    "bit1 = [0, 1, 0, 1]\n",
    "bit2 = [0, 0, 1, 1]\n",
    "\n",
    "# Encoding the circuits\n",
    "for i in range(0, 7, 2):\n",
    "    j = math.floor(i/2)\n",
    "    encoded_circ = encode(compound_circ, bit1[j], bit2[j], i)\n",
    "\n",
    "# Applying a barrier to isolate the the encoding circuit\n",
    "encoded_circ.barrier()\n"
   ]
  },
  {
   "cell_type": "code",
   "execution_count": 8,
   "id": "ambient-pulse",
   "metadata": {},
   "outputs": [
    {
     "data": {
      "text/plain": [
       "<qiskit.circuit.instructionset.InstructionSet at 0x7fa3446417c0>"
      ]
     },
     "execution_count": 8,
     "metadata": {},
     "output_type": "execute_result"
    }
   ],
   "source": [
    "\n",
    "# Decoding the circuits\n",
    "for i in range(0, 7, 2):\n",
    "    decoded_circ = decode(encoded_circ, i)\n",
    "\n",
    "# Applying a barrier to isolate the the decoding circuit\n",
    "decoded_circ.barrier()\n"
   ]
  },
  {
   "cell_type": "code",
   "execution_count": 9,
   "id": "plain-brunswick",
   "metadata": {
    "scrolled": true
   },
   "outputs": [
    {
     "name": "stdout",
     "output_type": "stream",
     "text": [
      "{'bit_string': probability} = {'11011000': 1}\n"
     ]
    },
    {
     "data": {
      "image/png": "[encoded data removed]",
      "text/plain": [
       "<Figure size 504x360 with 1 Axes>"
      ]
     },
     "metadata": {},
     "output_type": "display_data"
    },
    {
     "data": {
      "image/png": "[encoded data removed]",
      "text/plain": [
       "<Figure size 504x360 with 1 Axes>"
      ]
     },
     "metadata": {
      "needs_background": "light"
     },
     "output_type": "display_data"
    }
   ],
   "source": [
    "\n",
    "# Measure the decoded circuit\n",
    "for i in range(0, 8, 1):\n",
    "    decoded_circ.measure(i, i)\n",
    "\n",
    "# Run  the circuit\n",
    "run_circ(decoded_circ, backend)\n"
   ]
  }
 ],
 "metadata": {
  "kernelspec": {
   "display_name": "Python 3",
   "language": "python",
   "name": "python3"
  },
  "language_info": {
   "codemirror_mode": {
    "name": "ipython",
    "version": 3
   },
   "file_extension": ".py",
   "mimetype": "text/x-python",
   "name": "python",
   "nbconvert_exporter": "python",
   "pygments_lexer": "ipython3",
   "version": "3.8.8"
  },
  "widgets": {
   "application/vnd.jupyter.widget-state+json": {
    "state": {
     "059cfb31b1164b76bf9555eeb6ea9edb": {
      "model_module": "@jupyter-widgets/controls",
      "model_module_version": "1.5.0",
      "model_name": "DescriptionStyleModel",
      "state": {
       "description_width": ""
      }
     },
     "0ddb283ba730490b92c9cac75b39a5e4": {
      "model_module": "@jupyter-widgets/controls",
      "model_module_version": "1.5.0",
      "model_name": "HTMLModel",
      "state": {
       "layout": "IPY_MODEL_f7d710fce97c42b9b383560582a8caec",
       "style": "IPY_MODEL_60348ab185a041069a0e9fcbbbd4561d",
       "value": "<h5>Message</h5>"
      }
     },
     "1284390028f84384afb6b94fac522701": {
      "model_module": "@jupyter-widgets/controls",
      "model_module_version": "1.5.0",
      "model_name": "HTMLModel",
      "state": {
       "layout": "IPY_MODEL_d08d81329a5440e281ce2f3db20e40f3",
       "style": "IPY_MODEL_c9df1b7206854681ba53e568839ed4bb",
       "value": "<h5>Queue</h5>"
      }
     },
     "14a2206552ad462e9e3d7f9b7439e6a1": {
      "model_module": "@jupyter-widgets/controls",
      "model_module_version": "1.5.0",
      "model_name": "HBoxModel",
      "state": {
       "children": [
        "IPY_MODEL_5567b6117b9f45f0bc921e26db1bdb77",
        "IPY_MODEL_f4498c3ba1b847128f1b03eb23e1d2b2",
        "IPY_MODEL_4fc63c8a5d44435d8523fd60cfccf704",
        "IPY_MODEL_1284390028f84384afb6b94fac522701",
        "IPY_MODEL_0ddb283ba730490b92c9cac75b39a5e4"
       ],
       "layout": "IPY_MODEL_b3492a5880884acf874f2b48736da644"
      }
     },
     "2cb5df3c5a0b4cbb8ffe2b307a157998": {
      "model_module": "@jupyter-widgets/base",
      "model_module_version": "1.2.0",
      "model_name": "LayoutModel",
      "state": {}
     },
     "423d5a8e741c4987b5662e4a2fd0b1bf": {
      "model_module": "@jupyter-widgets/controls",
      "model_module_version": "1.5.0",
      "model_name": "DescriptionStyleModel",
      "state": {
       "description_width": ""
      }
     },
     "42bf8794fb744ca5b0d36698270c1e9a": {
      "model_module": "@jupyter-widgets/base",
      "model_module_version": "1.2.0",
      "model_name": "LayoutModel",
      "state": {
       "width": "190px"
      }
     },
     "43329e694dec47cfbc5dd1cc1104147e": {
      "model_module": "@jupyter-widgets/base",
      "model_module_version": "1.2.0",
      "model_name": "LayoutModel",
      "state": {
       "grid_template_areas": "\n                                       \". . . . right \"\n                                        ",
       "grid_template_columns": "20% 20% 20% 20% 20%",
       "width": "100%"
      }
     },
     "4fc63c8a5d44435d8523fd60cfccf704": {
      "model_module": "@jupyter-widgets/controls",
      "model_module_version": "1.5.0",
      "model_name": "HTMLModel",
      "state": {
       "layout": "IPY_MODEL_e829044d66ed4b9baa6cfcc4be39ab2e",
       "style": "IPY_MODEL_6fb92d40f68e4fe58da16ecdd5d9615f",
       "value": "<h5>Status</h5>"
      }
     },
     "53e87adcf21745f098b6a87ae2b90c3f": {
      "model_module": "@jupyter-widgets/base",
      "model_module_version": "1.2.0",
      "model_name": "LayoutModel",
      "state": {
       "grid_area": "right",
       "padding": "0px 0px 0px 0px",
       "width": "70px"
      }
     },
     "5567b6117b9f45f0bc921e26db1bdb77": {
      "model_module": "@jupyter-widgets/controls",
      "model_module_version": "1.5.0",
      "model_name": "HTMLModel",
      "state": {
       "layout": "IPY_MODEL_42bf8794fb744ca5b0d36698270c1e9a",
       "style": "IPY_MODEL_b606bf57229241998681c6a9f8b59e4b",
       "value": "<h5>Job ID</h5>"
      }
     },
     "5589ca55ee0148cfb2e94a0f63ebc553": {
      "model_module": "@jupyter-widgets/controls",
      "model_module_version": "1.5.0",
      "model_name": "ButtonModel",
      "state": {
       "button_style": "primary",
       "description": "Clear",
       "layout": "IPY_MODEL_53e87adcf21745f098b6a87ae2b90c3f",
       "style": "IPY_MODEL_cc178825a14c4e41bd0fda896b5c8def"
      }
     },
     "60348ab185a041069a0e9fcbbbd4561d": {
      "model_module": "@jupyter-widgets/controls",
      "model_module_version": "1.5.0",
      "model_name": "DescriptionStyleModel",
      "state": {
       "description_width": ""
      }
     },
     "6fb92d40f68e4fe58da16ecdd5d9615f": {
      "model_module": "@jupyter-widgets/controls",
      "model_module_version": "1.5.0",
      "model_name": "DescriptionStyleModel",
      "state": {
       "description_width": ""
      }
     },
     "7e3b9e826e4b4104a08df86d4aad76ce": {
      "model_module": "@jupyter-widgets/controls",
      "model_module_version": "1.5.0",
      "model_name": "GridBoxModel",
      "state": {
       "children": [
        "IPY_MODEL_5589ca55ee0148cfb2e94a0f63ebc553"
       ],
       "layout": "IPY_MODEL_43329e694dec47cfbc5dd1cc1104147e"
      }
     },
     "906173e87fd247fdbae36bd2c5dcd496": {
      "model_module": "@jupyter-widgets/base",
      "model_module_version": "1.2.0",
      "model_name": "LayoutModel",
      "state": {
       "margin": "0px 0px 10px 0px"
      }
     },
     "9081a671bc8d44c2a8326cdc8cda570d": {
      "model_module": "@jupyter-widgets/base",
      "model_module_version": "1.2.0",
      "model_name": "LayoutModel",
      "state": {
       "width": "145px"
      }
     },
     "b3492a5880884acf874f2b48736da644": {
      "model_module": "@jupyter-widgets/base",
      "model_module_version": "1.2.0",
      "model_name": "LayoutModel",
      "state": {
       "margin": "0px 0px 0px 37px",
       "width": "600px"
      }
     },
     "b606bf57229241998681c6a9f8b59e4b": {
      "model_module": "@jupyter-widgets/controls",
      "model_module_version": "1.5.0",
      "model_name": "DescriptionStyleModel",
      "state": {
       "description_width": ""
      }
     },
     "c9df1b7206854681ba53e568839ed4bb": {
      "model_module": "@jupyter-widgets/controls",
      "model_module_version": "1.5.0",
      "model_name": "DescriptionStyleModel",
      "state": {
       "description_width": ""
      }
     },
     "cc178825a14c4e41bd0fda896b5c8def": {
      "model_module": "@jupyter-widgets/controls",
      "model_module_version": "1.5.0",
      "model_name": "ButtonStyleModel",
      "state": {}
     },
     "d08d81329a5440e281ce2f3db20e40f3": {
      "model_module": "@jupyter-widgets/base",
      "model_module_version": "1.2.0",
      "model_name": "LayoutModel",
      "state": {
       "width": "70px"
      }
     },
     "d1e744455fb5410ca1284981ba1762f9": {
      "model_module": "@jupyter-widgets/controls",
      "model_module_version": "1.5.0",
      "model_name": "HTMLModel",
      "state": {
       "layout": "IPY_MODEL_906173e87fd247fdbae36bd2c5dcd496",
       "style": "IPY_MODEL_059cfb31b1164b76bf9555eeb6ea9edb",
       "value": "<p style='font-family: IBM Plex Sans, Arial, Helvetica, sans-serif; font-size: 20px; font-weight: medium;'>Circuit Properties</p>"
      }
     },
     "e829044d66ed4b9baa6cfcc4be39ab2e": {
      "model_module": "@jupyter-widgets/base",
      "model_module_version": "1.2.0",
      "model_name": "LayoutModel",
      "state": {
       "width": "95px"
      }
     },
     "f4498c3ba1b847128f1b03eb23e1d2b2": {
      "model_module": "@jupyter-widgets/controls",
      "model_module_version": "1.5.0",
      "model_name": "HTMLModel",
      "state": {
       "layout": "IPY_MODEL_9081a671bc8d44c2a8326cdc8cda570d",
       "style": "IPY_MODEL_423d5a8e741c4987b5662e4a2fd0b1bf",
       "value": "<h5>Backend</h5>"
      }
     },
     "f7d710fce97c42b9b383560582a8caec": {
      "model_module": "@jupyter-widgets/base",
      "model_module_version": "1.2.0",
      "model_name": "LayoutModel",
      "state": {}
     },
     "ff8190d77a454649b6fd0eb3508f69d6": {
      "model_module": "@quantum/ibm-q-lab-widgets",
      "model_module_version": "^1.0.3",
      "model_name": "CircuitComposerModel",
      "state": {
       "_model_module_version": "^1.0.3",
       "_view_module_version": "^1.0.3",
       "circuit": "\"OPENQASM 2.0;\\ninclude \\\"qelib1.inc\\\";\\n\\nqreg q[4];\\ncreg c[4];\\n\\nh q[0];\\ncx q[0],q[1];\\nh q[2];\\ncx q[2],q[3];\"",
       "editable": true,
       "layout": "IPY_MODEL_2cb5df3c5a0b4cbb8ffe2b307a157998",
       "qiskit_code_cell_index": -1
      }
     }
    },
    "version_major": 2,
    "version_minor": 0
   }
  }
 },
 "nbformat": 4,
 "nbformat_minor": 5
}
